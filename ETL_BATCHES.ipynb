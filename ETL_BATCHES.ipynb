{
 "cells": [
  {
   "cell_type": "code",
   "execution_count": 0,
   "metadata": {
    "application/vnd.databricks.v1+cell": {
     "cellMetadata": {
      "byteLimit": 2048000,
      "rowLimit": 10000
     },
     "inputWidgets": {},
     "nuid": "bce29448-a7ad-4b27-8e2b-1d27d2b8a379",
     "showTitle": false,
     "tableResultSettingsMap": {},
     "title": ""
    }
   },
   "outputs": [
    {
     "output_type": "stream",
     "name": "stdout",
     "output_type": "stream",
     "text": [
      "Python interpreter will be restarted.\nRequirement already satisfied: snowflake-connector-python==3.2.0 in /local_disk0/.ephemeral_nfs/cluster_libraries/python/lib/python3.9/site-packages (3.2.0)\nRequirement already satisfied: pyarrow==10.0.1 in /local_disk0/.ephemeral_nfs/cluster_libraries/python/lib/python3.9/site-packages (10.0.1)\nRequirement already satisfied: sortedcontainers>=2.4.0 in /local_disk0/.ephemeral_nfs/cluster_libraries/python/lib/python3.9/site-packages (from snowflake-connector-python==3.2.0) (2.4.0)\nRequirement already satisfied: requests<3.0.0 in /databricks/python3/lib/python3.9/site-packages (from snowflake-connector-python==3.2.0) (2.27.1)\nRequirement already satisfied: pycryptodomex!=3.5.0,<4.0.0,>=3.2 in /local_disk0/.ephemeral_nfs/cluster_libraries/python/lib/python3.9/site-packages (from snowflake-connector-python==3.2.0) (3.22.0)\nRequirement already satisfied: asn1crypto<2.0.0,>0.24.0 in /local_disk0/.ephemeral_nfs/cluster_libraries/python/lib/python3.9/site-packages (from snowflake-connector-python==3.2.0) (1.5.1)\nRequirement already satisfied: pyOpenSSL<24.0.0,>=16.2.0 in /local_disk0/.ephemeral_nfs/cluster_libraries/python/lib/python3.9/site-packages (from snowflake-connector-python==3.2.0) (23.3.0)\nRequirement already satisfied: certifi>=2017.4.17 in /databricks/python3/lib/python3.9/site-packages (from snowflake-connector-python==3.2.0) (2021.10.8)\nRequirement already satisfied: platformdirs<3.9.0,>=2.6.0 in /usr/local/lib/python3.9/dist-packages (from snowflake-connector-python==3.2.0) (2.6.2)\nRequirement already satisfied: oscrypto<2.0.0 in /local_disk0/.ephemeral_nfs/cluster_libraries/python/lib/python3.9/site-packages (from snowflake-connector-python==3.2.0) (1.3.0)\nRequirement already satisfied: pyjwt<3.0.0 in /local_disk0/.ephemeral_nfs/cluster_libraries/python/lib/python3.9/site-packages (from snowflake-connector-python==3.2.0) (2.10.1)\nRequirement already satisfied: idna<4,>=2.5 in /databricks/python3/lib/python3.9/site-packages (from snowflake-connector-python==3.2.0) (3.3)\nRequirement already satisfied: typing-extensions<5,>=4.3 in /local_disk0/.ephemeral_nfs/cluster_libraries/python/lib/python3.9/site-packages (from snowflake-connector-python==3.2.0) (4.13.0)\nRequirement already satisfied: cffi<2.0.0,>=1.9 in /databricks/python3/lib/python3.9/site-packages (from snowflake-connector-python==3.2.0) (1.15.0)\nRequirement already satisfied: charset-normalizer<4,>=2 in /databricks/python3/lib/python3.9/site-packages (from snowflake-connector-python==3.2.0) (2.0.4)\nRequirement already satisfied: cryptography<42.0.0,>=3.1.0 in /local_disk0/.ephemeral_nfs/cluster_libraries/python/lib/python3.9/site-packages (from snowflake-connector-python==3.2.0) (41.0.7)\nRequirement already satisfied: packaging in /databricks/python3/lib/python3.9/site-packages (from snowflake-connector-python==3.2.0) (21.3)\nRequirement already satisfied: urllib3<1.27,>=1.21.1 in /databricks/python3/lib/python3.9/site-packages (from snowflake-connector-python==3.2.0) (1.26.9)\nRequirement already satisfied: tomlkit in /local_disk0/.ephemeral_nfs/cluster_libraries/python/lib/python3.9/site-packages (from snowflake-connector-python==3.2.0) (0.13.2)\nRequirement already satisfied: pytz in /databricks/python3/lib/python3.9/site-packages (from snowflake-connector-python==3.2.0) (2021.3)\nRequirement already satisfied: filelock<4,>=3.5 in /usr/local/lib/python3.9/dist-packages (from snowflake-connector-python==3.2.0) (3.9.0)\nRequirement already satisfied: numpy>=1.16.6 in /databricks/python3/lib/python3.9/site-packages (from pyarrow==10.0.1) (1.21.5)\nRequirement already satisfied: pycparser in /databricks/python3/lib/python3.9/site-packages (from cffi<2.0.0,>=1.9->snowflake-connector-python==3.2.0) (2.21)\nRequirement already satisfied: pyparsing!=3.0.5,>=2.0.2 in /databricks/python3/lib/python3.9/site-packages (from packaging->snowflake-connector-python==3.2.0) (3.0.4)\nPython interpreter will be restarted.\n"
     ]
    }
   ],
   "source": [
    "# Celda 1: Instalar librerías esenciales\n",
    "%pip install snowflake-connector-python==3.2.0 pyarrow==10.0.1\n",
    "dbutils.library.restartPython()  # Reinicia el kernel para aplicar cambios"
   ]
  },
  {
   "cell_type": "code",
   "execution_count": 0,
   "metadata": {
    "application/vnd.databricks.v1+cell": {
     "cellMetadata": {
      "byteLimit": 2048000,
      "rowLimit": 10000
     },
     "inputWidgets": {},
     "nuid": "ae6a47a6-feb3-410e-ab14-d8a9bd58bd62",
     "showTitle": false,
     "tableResultSettingsMap": {},
     "title": ""
    }
   },
   "outputs": [
    {
     "output_type": "display_data",
     "data": {
      "text/html": [
       "<style scoped>\n",
       "  .table-result-container {\n",
       "    max-height: 300px;\n",
       "    overflow: auto;\n",
       "  }\n",
       "  table, th, td {\n",
       "    border: 1px solid black;\n",
       "    border-collapse: collapse;\n",
       "  }\n",
       "  th, td {\n",
       "    padding: 5px;\n",
       "  }\n",
       "  th {\n",
       "    text-align: left;\n",
       "  }\n",
       "</style><div class='table-result-container'><table class='table-result'><thead style='background-color: white'><tr><th>CONEXION_EXITOSA</th></tr></thead><tbody><tr><td>1</td></tr></tbody></table></div>"
      ]
     },
     "metadata": {
      "application/vnd.databricks.v1+output": {
       "addedWidgets": {},
       "aggData": [],
       "aggError": "",
       "aggOverflow": false,
       "aggSchema": [],
       "aggSeriesLimitReached": false,
       "aggType": "",
       "arguments": {},
       "columnCustomDisplayInfos": {},
       "data": [
        [
         "1"
        ]
       ],
       "datasetInfos": [],
       "dbfsResultPath": null,
       "isJsonSchema": true,
       "metadata": {},
       "overflow": false,
       "plotOptions": {
        "customPlotOptions": {},
        "displayType": "table",
        "pivotAggregation": null,
        "pivotColumns": null,
        "xColumns": null,
        "yColumns": null
       },
       "removedWidgets": [],
       "schema": [
        {
         "metadata": "{}",
         "name": "CONEXION_EXITOSA",
         "type": "\"decimal(1,0)\""
        }
       ],
       "type": "table"
      }
     },
     "output_type": "display_data"
    }
   ],
   "source": [
    "# Celda 2: Configurar conexión\n",
    "sf_options = {\n",
    "    \"sfUrl\": \"NDVNNHP-ZM24191.snowflakecomputing.com\",\n",
    "    \"sfUser\": \"KENDERAG\",\n",
    "    \"sfPassword\": \"Hp7g33snkm64alqxlixn\",\n",
    "    \"sfDatabase\": \"INV_DB\",\n",
    "    \"sfSchema\": \"PUBLIC\",\n",
    "    \"sfWarehouse\": \"COMPUTE_WH\"\n",
    "}\n",
    "\n",
    "# Prueba de conexión rápida\n",
    "try:\n",
    "    test_df = spark.read.format(\"snowflake\") \\\n",
    "        .options(**sf_options) \\\n",
    "        .option(\"query\", \"SELECT 1 AS conexion_exitosa\") \\\n",
    "        .load()\n",
    "    display(test_df)  # Debe mostrar \"1\" si todo está bien\n",
    "except Exception as e:\n",
    "    print(f\"❌ Error de conexión: {str(e)}\")\n",
    "    print(\"Verifica: 1) Credenciales, 2) Warehouse activo, 3) Internet\")"
   ]
  },
  {
   "cell_type": "code",
   "execution_count": 0,
   "metadata": {
    "application/vnd.databricks.v1+cell": {
     "cellMetadata": {
      "byteLimit": 2048000,
      "rowLimit": 10000
     },
     "inputWidgets": {},
     "nuid": "ae6b63e4-a05a-4082-8aae-5c5fc8998f6e",
     "showTitle": false,
     "tableResultSettingsMap": {},
     "title": ""
    }
   },
   "outputs": [
    {
     "output_type": "stream",
     "name": "stdout",
     "output_type": "stream",
     "text": [
      "✅ Filas cargadas: 150000\n"
     ]
    },
    {
     "output_type": "display_data",
     "data": {
      "text/html": [
       "<style scoped>\n",
       "  .table-result-container {\n",
       "    max-height: 300px;\n",
       "    overflow: auto;\n",
       "  }\n",
       "  table, th, td {\n",
       "    border: 1px solid black;\n",
       "    border-collapse: collapse;\n",
       "  }\n",
       "  th, td {\n",
       "    padding: 5px;\n",
       "  }\n",
       "  th {\n",
       "    text-align: left;\n",
       "  }\n",
       "</style><div class='table-result-container'><table class='table-result'><thead style='background-color: white'><tr><th>PRODUCT_ID</th><th>PRODUCT_NAME</th><th>CATEGORY</th><th>BRAND</th><th>PRICE</th><th>CURRENT_STOCK</th><th>DAILY_SALES_AVG</th><th>REGION</th><th>STORE_ID</th><th>STOCK_STATUS</th><th>ABC_CLASS</th><th>LAST_RESTOCK_DATE</th></tr></thead><tbody><tr><td>P00001</td><td>Samsung Laptop Pm</td><td>Laptop</td><td>Samsung</td><td>273.86</td><td>242</td><td>7</td><td>SOUTH</td><td>STORE_SOUTH_2</td><td>EXCESS</td><td>B</td><td>2025-03-23T19:04:57.589+0000</td></tr><tr><td>P00002</td><td>Samsung Smartwatch Civil</td><td>Smartwatch</td><td>Samsung</td><td>1976.55</td><td>546</td><td>28</td><td>NORTH</td><td>STORE_NORTH_2</td><td>OK</td><td>A</td><td>2025-02-05T19:04:57.590+0000</td></tr><tr><td>P00003</td><td>Sony Laptop Skin</td><td>Laptop</td><td>Sony</td><td>943.74</td><td>186</td><td>17</td><td>SOUTH</td><td>STORE_SOUTH_2</td><td>OK</td><td>A</td><td>2025-02-05T19:04:57.590+0000</td></tr><tr><td>P00004</td><td>Sony Smartwatch Back</td><td>Smartwatch</td><td>Sony</td><td>1418.8</td><td>131</td><td>17</td><td>WEST</td><td>STORE_WEST_1</td><td>OK</td><td>A</td><td>2025-03-02T19:04:57.590+0000</td></tr><tr><td>P00005</td><td>Apple Tablet Material</td><td>Tablet</td><td>Apple</td><td>544.64</td><td>135</td><td>18</td><td>NORTH</td><td>STORE_NORTH_3</td><td>OK</td><td>A</td><td>2025-02-11T19:04:57.591+0000</td></tr></tbody></table></div>"
      ]
     },
     "metadata": {
      "application/vnd.databricks.v1+output": {
       "addedWidgets": {},
       "aggData": [],
       "aggError": "",
       "aggOverflow": false,
       "aggSchema": [],
       "aggSeriesLimitReached": false,
       "aggType": "",
       "arguments": {},
       "columnCustomDisplayInfos": {},
       "data": [
        [
         "P00001",
         "Samsung Laptop Pm",
         "Laptop",
         "Samsung",
         273.86,
         "242",
         "7",
         "SOUTH",
         "STORE_SOUTH_2",
         "EXCESS",
         "B",
         "2025-03-23T19:04:57.589+0000"
        ],
        [
         "P00002",
         "Samsung Smartwatch Civil",
         "Smartwatch",
         "Samsung",
         1976.55,
         "546",
         "28",
         "NORTH",
         "STORE_NORTH_2",
         "OK",
         "A",
         "2025-02-05T19:04:57.590+0000"
        ],
        [
         "P00003",
         "Sony Laptop Skin",
         "Laptop",
         "Sony",
         943.74,
         "186",
         "17",
         "SOUTH",
         "STORE_SOUTH_2",
         "OK",
         "A",
         "2025-02-05T19:04:57.590+0000"
        ],
        [
         "P00004",
         "Sony Smartwatch Back",
         "Smartwatch",
         "Sony",
         1418.8,
         "131",
         "17",
         "WEST",
         "STORE_WEST_1",
         "OK",
         "A",
         "2025-03-02T19:04:57.590+0000"
        ],
        [
         "P00005",
         "Apple Tablet Material",
         "Tablet",
         "Apple",
         544.64,
         "135",
         "18",
         "NORTH",
         "STORE_NORTH_3",
         "OK",
         "A",
         "2025-02-11T19:04:57.591+0000"
        ]
       ],
       "datasetInfos": [],
       "dbfsResultPath": null,
       "isJsonSchema": true,
       "metadata": {},
       "overflow": false,
       "plotOptions": {
        "customPlotOptions": {},
        "displayType": "table",
        "pivotAggregation": null,
        "pivotColumns": null,
        "xColumns": null,
        "yColumns": null
       },
       "removedWidgets": [],
       "schema": [
        {
         "metadata": "{}",
         "name": "PRODUCT_ID",
         "type": "\"string\""
        },
        {
         "metadata": "{}",
         "name": "PRODUCT_NAME",
         "type": "\"string\""
        },
        {
         "metadata": "{}",
         "name": "CATEGORY",
         "type": "\"string\""
        },
        {
         "metadata": "{}",
         "name": "BRAND",
         "type": "\"string\""
        },
        {
         "metadata": "{}",
         "name": "PRICE",
         "type": "\"double\""
        },
        {
         "metadata": "{}",
         "name": "CURRENT_STOCK",
         "type": "\"decimal(38,0)\""
        },
        {
         "metadata": "{}",
         "name": "DAILY_SALES_AVG",
         "type": "\"decimal(38,0)\""
        },
        {
         "metadata": "{}",
         "name": "REGION",
         "type": "\"string\""
        },
        {
         "metadata": "{}",
         "name": "STORE_ID",
         "type": "\"string\""
        },
        {
         "metadata": "{}",
         "name": "STOCK_STATUS",
         "type": "\"string\""
        },
        {
         "metadata": "{}",
         "name": "ABC_CLASS",
         "type": "\"string\""
        },
        {
         "metadata": "{}",
         "name": "LAST_RESTOCK_DATE",
         "type": "\"timestamp\""
        }
       ],
       "type": "table"
      }
     },
     "output_type": "display_data"
    }
   ],
   "source": [
    "# Celda 3: Cargar datos de origen\n",
    "try:\n",
    "    df = spark.read.format(\"snowflake\") \\\n",
    "        .options(**sf_options) \\\n",
    "        .option(\"dbtable\", \"TECH_INVENTORY\") \\\n",
    "        .load()\n",
    "    print(f\"✅ Filas cargadas: {df.count()}\")\n",
    "    display(df.limit(5))  # Muestra las primeras filas\n",
    "except Exception as e:\n",
    "    print(f\"❌ Error al leer datos: {str(e)}\")\n",
    "    # Guarda un backup local por si falla Snowflake\n",
    "    df.write.format(\"csv\").save(\"/FileStore/backup_tech_inventory.csv\")"
   ]
  },
  {
   "cell_type": "code",
   "execution_count": 0,
   "metadata": {
    "application/vnd.databricks.v1+cell": {
     "cellMetadata": {
      "byteLimit": 2048000,
      "rowLimit": 10000
     },
     "inputWidgets": {},
     "nuid": "6b3e950b-6623-463b-84b7-5c03abc13141",
     "showTitle": false,
     "tableResultSettingsMap": {},
     "title": ""
    }
   },
   "outputs": [
    {
     "output_type": "display_data",
     "data": {
      "text/html": [
       "<style scoped>\n",
       "  .table-result-container {\n",
       "    max-height: 300px;\n",
       "    overflow: auto;\n",
       "  }\n",
       "  table, th, td {\n",
       "    border: 1px solid black;\n",
       "    border-collapse: collapse;\n",
       "  }\n",
       "  th, td {\n",
       "    padding: 5px;\n",
       "  }\n",
       "  th {\n",
       "    text-align: left;\n",
       "  }\n",
       "</style><div class='table-result-container'><table class='table-result'><thead style='background-color: white'><tr><th>PRODUCT_ID</th><th>PRODUCT_NAME</th><th>CATEGORY</th><th>BRAND</th><th>PRICE</th><th>CURRENT_STOCK</th><th>DAILY_SALES_AVG</th><th>REGION</th><th>STORE_ID</th><th>STOCK_STATUS</th><th>ABC_CLASS</th><th>LAST_RESTOCK_DATE</th><th>dias_stock_restante</th><th>priority_flag</th></tr></thead><tbody><tr><td>P00001</td><td>Samsung Laptop Pm</td><td>Laptop</td><td>Samsung</td><td>273.86</td><td>242</td><td>7</td><td>SOUTH</td><td>STORE_SOUTH_2</td><td>EXCESS</td><td>B</td><td>2025-03-23T19:04:57.589+0000</td><td>34.57</td><td>false</td></tr><tr><td>P00002</td><td>Samsung Smartwatch Civil</td><td>Smartwatch</td><td>Samsung</td><td>1976.55</td><td>546</td><td>28</td><td>NORTH</td><td>STORE_NORTH_2</td><td>OK</td><td>A</td><td>2025-02-05T19:04:57.590+0000</td><td>19.50</td><td>false</td></tr><tr><td>P00003</td><td>Sony Laptop Skin</td><td>Laptop</td><td>Sony</td><td>943.74</td><td>186</td><td>17</td><td>SOUTH</td><td>STORE_SOUTH_2</td><td>OK</td><td>A</td><td>2025-02-05T19:04:57.590+0000</td><td>10.94</td><td>false</td></tr><tr><td>P00004</td><td>Sony Smartwatch Back</td><td>Smartwatch</td><td>Sony</td><td>1418.8</td><td>131</td><td>17</td><td>WEST</td><td>STORE_WEST_1</td><td>OK</td><td>A</td><td>2025-03-02T19:04:57.590+0000</td><td>7.71</td><td>false</td></tr><tr><td>P00005</td><td>Apple Tablet Material</td><td>Tablet</td><td>Apple</td><td>544.64</td><td>135</td><td>18</td><td>NORTH</td><td>STORE_NORTH_3</td><td>OK</td><td>A</td><td>2025-02-11T19:04:57.591+0000</td><td>7.50</td><td>false</td></tr></tbody></table></div>"
      ]
     },
     "metadata": {
      "application/vnd.databricks.v1+output": {
       "addedWidgets": {},
       "aggData": [],
       "aggError": "",
       "aggOverflow": false,
       "aggSchema": [],
       "aggSeriesLimitReached": false,
       "aggType": "",
       "arguments": {},
       "columnCustomDisplayInfos": {},
       "data": [
        [
         "P00001",
         "Samsung Laptop Pm",
         "Laptop",
         "Samsung",
         273.86,
         "242",
         "7",
         "SOUTH",
         "STORE_SOUTH_2",
         "EXCESS",
         "B",
         "2025-03-23T19:04:57.589+0000",
         "34.57",
         false
        ],
        [
         "P00002",
         "Samsung Smartwatch Civil",
         "Smartwatch",
         "Samsung",
         1976.55,
         "546",
         "28",
         "NORTH",
         "STORE_NORTH_2",
         "OK",
         "A",
         "2025-02-05T19:04:57.590+0000",
         "19.50",
         false
        ],
        [
         "P00003",
         "Sony Laptop Skin",
         "Laptop",
         "Sony",
         943.74,
         "186",
         "17",
         "SOUTH",
         "STORE_SOUTH_2",
         "OK",
         "A",
         "2025-02-05T19:04:57.590+0000",
         "10.94",
         false
        ],
        [
         "P00004",
         "Sony Smartwatch Back",
         "Smartwatch",
         "Sony",
         1418.8,
         "131",
         "17",
         "WEST",
         "STORE_WEST_1",
         "OK",
         "A",
         "2025-03-02T19:04:57.590+0000",
         "7.71",
         false
        ],
        [
         "P00005",
         "Apple Tablet Material",
         "Tablet",
         "Apple",
         544.64,
         "135",
         "18",
         "NORTH",
         "STORE_NORTH_3",
         "OK",
         "A",
         "2025-02-11T19:04:57.591+0000",
         "7.50",
         false
        ]
       ],
       "datasetInfos": [],
       "dbfsResultPath": null,
       "isJsonSchema": true,
       "metadata": {},
       "overflow": false,
       "plotOptions": {
        "customPlotOptions": {},
        "displayType": "table",
        "pivotAggregation": null,
        "pivotColumns": null,
        "xColumns": null,
        "yColumns": null
       },
       "removedWidgets": [],
       "schema": [
        {
         "metadata": "{}",
         "name": "PRODUCT_ID",
         "type": "\"string\""
        },
        {
         "metadata": "{}",
         "name": "PRODUCT_NAME",
         "type": "\"string\""
        },
        {
         "metadata": "{}",
         "name": "CATEGORY",
         "type": "\"string\""
        },
        {
         "metadata": "{}",
         "name": "BRAND",
         "type": "\"string\""
        },
        {
         "metadata": "{}",
         "name": "PRICE",
         "type": "\"double\""
        },
        {
         "metadata": "{}",
         "name": "CURRENT_STOCK",
         "type": "\"decimal(38,0)\""
        },
        {
         "metadata": "{}",
         "name": "DAILY_SALES_AVG",
         "type": "\"decimal(38,0)\""
        },
        {
         "metadata": "{}",
         "name": "REGION",
         "type": "\"string\""
        },
        {
         "metadata": "{}",
         "name": "STORE_ID",
         "type": "\"string\""
        },
        {
         "metadata": "{}",
         "name": "STOCK_STATUS",
         "type": "\"string\""
        },
        {
         "metadata": "{}",
         "name": "ABC_CLASS",
         "type": "\"string\""
        },
        {
         "metadata": "{}",
         "name": "LAST_RESTOCK_DATE",
         "type": "\"timestamp\""
        },
        {
         "metadata": "{}",
         "name": "dias_stock_restante",
         "type": "\"decimal(35,2)\""
        },
        {
         "metadata": "{}",
         "name": "priority_flag",
         "type": "\"boolean\""
        }
       ],
       "type": "table"
      }
     },
     "output_type": "display_data"
    }
   ],
   "source": [
    "# Celda 4: Calcular métricas clave\n",
    "from pyspark.sql.functions import col, when, round\n",
    "\n",
    "try:\n",
    "    df_transform = df.withColumn(\n",
    "        \"dias_stock_restante\",\n",
    "        when(col(\"DAILY_SALES_AVG\") > 0, round(col(\"CURRENT_STOCK\") / col(\"DAILY_SALES_AVG\"), 2))\n",
    "    ).withColumn(\n",
    "        \"priority_flag\",\n",
    "        (col(\"ABC_CLASS\") == \"A\") & (col(\"STOCK_STATUS\") == \"RISK\")\n",
    "    )\n",
    "    \n",
    "    display(df_transform.limit(5))  # Verifica resultados\n",
    "except Exception as e:\n",
    "    print(f\"❌ Error en transformaciones: {str(e)}\")"
   ]
  },
  {
   "cell_type": "code",
   "execution_count": 0,
   "metadata": {
    "application/vnd.databricks.v1+cell": {
     "cellMetadata": {
      "byteLimit": 2048000,
      "rowLimit": 10000
     },
     "inputWidgets": {},
     "nuid": "8fe95851-3f75-43dc-aa9c-fdcd2eda7ead",
     "showTitle": false,
     "tableResultSettingsMap": {},
     "title": ""
    }
   },
   "outputs": [
    {
     "output_type": "stream",
     "name": "stdout",
     "output_type": "stream",
     "text": [
      "✅ Datos guardados en INVENTORY_ANALYTICS\n"
     ]
    },
    {
     "output_type": "display_data",
     "data": {
      "text/html": [
       "<style scoped>\n",
       "  .table-result-container {\n",
       "    max-height: 300px;\n",
       "    overflow: auto;\n",
       "  }\n",
       "  table, th, td {\n",
       "    border: 1px solid black;\n",
       "    border-collapse: collapse;\n",
       "  }\n",
       "  th, td {\n",
       "    padding: 5px;\n",
       "  }\n",
       "  th {\n",
       "    text-align: left;\n",
       "  }\n",
       "</style><div class='table-result-container'><table class='table-result'><thead style='background-color: white'><tr><th>FILAS</th></tr></thead><tbody><tr><td>150000</td></tr></tbody></table></div>"
      ]
     },
     "metadata": {
      "application/vnd.databricks.v1+output": {
       "addedWidgets": {},
       "aggData": [],
       "aggError": "",
       "aggOverflow": false,
       "aggSchema": [],
       "aggSeriesLimitReached": false,
       "aggType": "",
       "arguments": {},
       "columnCustomDisplayInfos": {},
       "data": [
        [
         "150000"
        ]
       ],
       "datasetInfos": [],
       "dbfsResultPath": null,
       "isJsonSchema": true,
       "metadata": {},
       "overflow": false,
       "plotOptions": {
        "customPlotOptions": {},
        "displayType": "table",
        "pivotAggregation": null,
        "pivotColumns": null,
        "xColumns": null,
        "yColumns": null
       },
       "removedWidgets": [],
       "schema": [
        {
         "metadata": "{}",
         "name": "FILAS",
         "type": "\"decimal(18,0)\""
        }
       ],
       "type": "table"
      }
     },
     "output_type": "display_data"
    }
   ],
   "source": [
    "# Celda 5: Escribir resultados en Snowflake\n",
    "try:\n",
    "    df_transform.write.format(\"snowflake\") \\\n",
    "        .options(**sf_options) \\\n",
    "        .option(\"dbtable\", \"INVENTORY_ANALYTICS\") \\\n",
    "        .mode(\"overwrite\") \\\n",
    "        .save()\n",
    "    print(\"✅ Datos guardados en INVENTORY_ANALYTICS\")\n",
    "    \n",
    "    # Verificación adicional\n",
    "    df_check = spark.read.format(\"snowflake\") \\\n",
    "        .options(**sf_options) \\\n",
    "        .option(\"query\", \"SELECT COUNT(*) AS filas FROM INVENTORY_ANALYTICS\") \\\n",
    "        .load()\n",
    "    display(df_check)\n",
    "except Exception as e:\n",
    "    print(f\"❌ Error al guardar: {str(e)}\")\n",
    "    # Respaldar en DBFS por si falla Snowflake\n",
    "    df_transform.write.format(\"parquet\").save(\"/FileStore/backup_inventory_analytics\")"
   ]
  },
  {
   "cell_type": "code",
   "execution_count": 0,
   "metadata": {
    "application/vnd.databricks.v1+cell": {
     "cellMetadata": {
      "byteLimit": 2048000,
      "rowLimit": 10000
     },
     "inputWidgets": {},
     "nuid": "af2c2e9c-e778-4be2-82ba-95cb586281af",
     "showTitle": false,
     "tableResultSettingsMap": {},
     "title": ""
    }
   },
   "outputs": [
    {
     "output_type": "stream",
     "name": "stdout",
     "output_type": "stream",
     "text": [
      "🎉 Resumen del ETL:\n- Filas procesadas: 150000\n- Columnas generadas: 14\n- Priority Flags (True): 6373\n"
     ]
    }
   ],
   "source": [
    "# Celda 6: Resumen final\n",
    "print(\"🎉 Resumen del ETL:\")\n",
    "print(f\"- Filas procesadas: {df_transform.count()}\")\n",
    "print(f\"- Columnas generadas: {len(df_transform.columns)}\")\n",
    "print(f\"- Priority Flags (True): {df_transform.filter(col('priority_flag') == True).count()}\")"
   ]
  }
 ],
 "metadata": {
  "application/vnd.databricks.v1+notebook": {
   "computePreferences": null,
   "dashboards": [],
   "environmentMetadata": {
    "base_environment": "",
    "environment_version": "1"
   },
   "inputWidgetPreferences": null,
   "language": "python",
   "notebookMetadata": {
    "pythonIndentUnit": 4
   },
   "notebookName": "ETL_BATCHES",
   "widgets": {}
  }
 },
 "nbformat": 4,
 "nbformat_minor": 0
}